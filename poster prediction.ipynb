{
 "cells": [
  {
   "cell_type": "code",
   "execution_count": null,
   "metadata": {},
   "outputs": [],
   "source": [
    "import numpy as np\n",
    "import os\n",
    "from PIL import Image\n",
    "import PIL\n",
    "import glob\n",
    "import os.path\n",
    "\n",
    "\n",
    "folder_cartoon = 'C:\\\\Users\\\\trist\\\\Documents\\\\ucg\\\\y2\\\\block 1\\\\machine learning\\\\python script\\\\project\\\\Cartoon'\n",
    "folder_superhero = 'C:\\\\Users\\\\trist\\\\Documents\\\\ucg\\\\y2\\\\block 1\\\\machine learning\\\\python script\\\\project\\\\Superhero'\n",
    "\n",
    "read = lambda imname: np.asarray(Image.open(imname).convert(\"RGB\"))"
   ]
  },
  {
   "cell_type": "code",
   "execution_count": null,
   "metadata": {},
   "outputs": [],
   "source": [
    "#resize the cartoon image\n",
    "\n",
    "f = r'C:\\\\Users\\\\trist\\\\Documents\\\\ucg\\\\y2\\\\block 1\\\\machine learning\\\\python script\\\\project\\\\Cartoon'\n",
    "img2 = np.array([])\n",
    "\n",
    "for file in os.listdir(f):\n",
    "    f_img = f+\"\\\\\"+file\n",
    "    img = Image.open(f_img)\n",
    "    np.append(img2, img.resize((2296,1724)))"
   ]
  },
  {
   "cell_type": "code",
   "execution_count": null,
   "metadata": {},
   "outputs": [],
   "source": [
    "print(img2)"
   ]
  },
  {
   "cell_type": "code",
   "execution_count": null,
   "metadata": {},
   "outputs": [],
   "source": [
    "#resize the superhero image\n",
    "\n",
    "f = r'C:\\\\Users\\\\trist\\\\Documents\\\\ucg\\\\y2\\\\block 1\\\\machine learning\\\\python script\\\\project\\\\Superhero'\n",
    "img3 = np.array([])\n",
    "\n",
    "for file in os.listdir(f):\n",
    "    f_img = f+\"\\\\\"+file\n",
    "    img = Image.open(f_img)\n",
    "    np.append(img3, img.resize((2296,1724)))"
   ]
  },
  {
   "cell_type": "code",
   "execution_count": null,
   "metadata": {},
   "outputs": [],
   "source": [
    "print(img2)"
   ]
  },
  {
   "cell_type": "code",
   "execution_count": null,
   "metadata": {},
   "outputs": [],
   "source": [
    "ims_cartoon = [read(os.path.join(folder_cartoon, filename)) for filename in os.listdir(folder_cartoon)]\n",
    "X_cartoon = np.array(ims_cartoon, dtype='uint8')\n",
    "ims_superhero = [read(os.path.join(folder_superhero, filename)) for filename in os.listdir(folder_superhero)]\n",
    "X_superhero = np.array(ims_superhero, dtype='uint8')"
   ]
  },
  {
   "cell_type": "code",
   "execution_count": null,
   "metadata": {},
   "outputs": [],
   "source": [
    "y_cartoon = np.zeros(folder_cartoon.shape[0])\n",
    "y_superhero = np.ones(folder_superhero.shape[0])"
   ]
  },
  {
   "cell_type": "code",
   "execution_count": null,
   "metadata": {},
   "outputs": [],
   "source": [
    "from sklearn.model_selection import train_test_split\n",
    "x_train, x_test, y_train, y_test = train_test_split(X, y, test_size=0.3, random_state=0)"
   ]
  }
 ],
 "metadata": {
  "kernelspec": {
   "display_name": "Python 3.10.8 64-bit (microsoft store)",
   "language": "python",
   "name": "python3"
  },
  "language_info": {
   "codemirror_mode": {
    "name": "ipython",
    "version": 3
   },
   "file_extension": ".py",
   "mimetype": "text/x-python",
   "name": "python",
   "nbconvert_exporter": "python",
   "pygments_lexer": "ipython3",
   "version": "3.10.8"
  },
  "orig_nbformat": 4,
  "vscode": {
   "interpreter": {
    "hash": "b8c929f1c7b5a7b7d05dbe3bcbfebf7850db0ed0607b815f99d0534cfe000cb7"
   }
  }
 },
 "nbformat": 4,
 "nbformat_minor": 2
}
