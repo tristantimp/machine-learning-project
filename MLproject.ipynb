{
 "cells": [
  {
   "cell_type": "code",
   "execution_count": 42,
   "metadata": {},
   "outputs": [],
   "source": [
    "import pandas as pd \n",
    "import numpy as np\n",
    "from sklearn.model_selection import train_test_split\n",
    "#loading of the data and selecting most relevant features, dropping columns that are lacking data\n",
    "df = pd.read_csv(\"project_data.csv\")\n",
    "df2 = df.dropna()\n",
    "y = df2['Total early-stage Entrepreneurial Activity (TEA)']\n",
    "\n",
    "X = df2.drop(['economy','Total early-stage Entrepreneurial Activity (TEA)'], axis=1)"
   ]
  },
  {
   "cell_type": "code",
   "execution_count": 43,
   "metadata": {},
   "outputs": [
    {
     "name": "stdout",
     "output_type": "stream",
     "text": [
      "                                Coefficient\n",
      "code                               0.003123\n",
      "year                               0.058145\n",
      "Perceived opportunities            0.023357\n",
      "Perceived capabilities            -0.000389\n",
      "Fear of failure rate *             0.009191\n",
      "Entrepreneurial intentions         0.177840\n",
      "Established Business Ownership     0.256180\n",
      "Female/Male TEA                    1.596360\n",
      "High Job Creation Expectation      0.059668\n",
      "Business Services Sector           0.011596\n"
     ]
    }
   ],
   "source": [
    "#spliting data, fitting it into Linear Regression \n",
    "X_train, X_test, y_train, y_test = train_test_split(X, y,test_size=0.2)\n",
    "from sklearn.linear_model import LinearRegression\n",
    "regressor = LinearRegression()\n",
    "regressor.fit(X_train, y_train)\n",
    "coeff_df = pd.DataFrame(regressor.coef_, X.columns, columns=['Coefficient'])\n",
    "#printing coefficients\n",
    "print(coeff_df)\n"
   ]
  },
  {
   "cell_type": "code",
   "execution_count": 44,
   "metadata": {},
   "outputs": [
    {
     "name": "stdout",
     "output_type": "stream",
     "text": [
      "Mean Absolute Error: 1.6107549350398933\n",
      "Mean Squared Error: 3.98807284746978\n",
      "Root Mean Squared Error: 1.997015985782232\n"
     ]
    }
   ],
   "source": [
    "\n",
    "#making predictions, printing scores\n",
    "y_pred = regressor.predict(X_test)\n",
    "df = pd.DataFrame({'Actual': y_test, 'Predicted': y_pred})\n",
    "from sklearn import metrics\n",
    "print('Mean Absolute Error:', metrics.mean_absolute_error(y_test, y_pred))\n",
    "print('Mean Squared Error:', metrics.mean_squared_error(y_test, y_pred))\n",
    "print('Root Mean Squared Error:', np.sqrt(metrics.mean_squared_error(y_test, y_pred)))"
   ]
  },
  {
   "cell_type": "code",
   "execution_count": 50,
   "metadata": {},
   "outputs": [
    {
     "name": "stdout",
     "output_type": "stream",
     "text": [
      "[[0 0 0 0 0 1 0 0 0 0 0 0 0 0 0]\n",
      " [0 0 0 1 0 1 0 0 0 0 0 0 0 0 0]\n",
      " [0 1 1 0 2 2 2 0 1 0 0 0 0 0 0]\n",
      " [0 0 1 1 1 3 5 0 1 0 1 0 0 0 0]\n",
      " [0 0 1 2 1 3 1 1 0 0 0 0 0 0 0]\n",
      " [0 0 0 1 3 3 1 1 1 1 0 0 0 0 0]\n",
      " [0 0 0 1 0 3 2 1 1 0 0 0 0 0 0]\n",
      " [0 0 0 0 1 0 0 2 2 2 1 0 0 0 0]\n",
      " [0 0 0 0 1 3 1 3 1 0 1 0 0 0 0]\n",
      " [0 0 1 0 0 1 1 0 0 1 0 0 0 0 0]\n",
      " [0 0 0 0 0 0 1 0 0 0 0 0 0 0 0]\n",
      " [0 0 1 0 0 0 0 1 0 0 0 0 0 0 0]\n",
      " [0 0 0 0 2 2 0 0 0 0 0 0 0 0 0]\n",
      " [0 0 0 1 1 0 0 0 0 0 0 0 0 0 0]\n",
      " [0 0 1 1 1 0 0 0 0 0 0 0 0 0 0]]\n",
      "0.13793103448275862\n"
     ]
    }
   ],
   "source": [
    "#\n",
    "from sklearn.metrics import confusion_matrix, accuracy_score\n",
    "from sklearn import svm\n",
    "y = y.apply(np.int64)\n",
    "X_train, X_test, y_train, y_test = train_test_split(X, y,test_size=0.2)\n",
    "clf = svm.SVC()\n",
    "clf.fit(X_train, y_train)\n",
    "clf.predict(X_test)\n",
    "y_pred=pd.DataFrame(y_pred)\n",
    "y_pred = y_pred.apply(np.int64)\n",
    "print(confusion_matrix(y_test, y_pred))\n",
    "print(accuracy_score(y_test, y_pred))\n"
   ]
  },
  {
   "cell_type": "code",
   "execution_count": 52,
   "metadata": {},
   "outputs": [
    {
     "name": "stdout",
     "output_type": "stream",
     "text": [
      "[ 5  5  5  5  5  5  4  9  5  3  7  5  3  5  5  5  5  6 11 11  5  9  3  6\n",
      "  3  6  5  2 11  7  5  5  5  7  6  5  9  3 12  5  6  5  6  7 10  7  5  3\n",
      "  5  5  5  5  7  8  7  5 13  8  2  7  4  9  5  5  5  9  3  8 10  5  5 12\n",
      "  5 13  5  5  7  5 13  5 13 15  4  8  2  5 11]\n",
      "[[0 0 0 0 1 0 0 0 0 0 0 0 0 0 0]\n",
      " [0 1 1 0 0 0 0 0 0 0 0 0 0 0 0]\n",
      " [0 0 2 1 1 1 0 1 0 0 0 0 0 0 0]\n",
      " [0 0 2 1 5 3 0 0 1 0 0 0 0 0 0]\n",
      " [0 1 1 1 8 0 2 0 0 0 0 0 0 0 0]\n",
      " [0 0 1 0 8 1 2 1 0 1 0 0 0 0 0]\n",
      " [0 0 0 0 6 1 2 2 1 0 0 0 0 0 0]\n",
      " [0 1 0 0 4 0 1 0 2 0 0 0 0 0 0]\n",
      " [0 0 0 0 2 0 1 0 1 1 0 0 1 0 0]\n",
      " [0 0 0 0 2 0 0 0 0 0 1 1 0 0 0]\n",
      " [0 0 0 0 0 0 0 0 0 0 0 0 0 0 0]\n",
      " [0 0 0 0 0 0 0 0 0 0 1 1 1 0 0]\n",
      " [0 0 0 0 0 0 0 0 0 0 1 0 1 0 0]\n",
      " [0 0 0 0 0 0 1 0 0 0 1 0 1 0 0]\n",
      " [0 0 0 0 0 0 0 0 0 0 0 0 0 0 1]]\n",
      "0.21839080459770116\n"
     ]
    }
   ],
   "source": [
    "X_train, X_test, y_train, y_test = train_test_split(X, y,test_size=0.2)\n",
    "from sklearn import preprocessing\n",
    "from sklearn.metrics import confusion_matrix, accuracy_score\n",
    "from sklearn.naive_bayes import GaussianNB\n",
    "gnb = GaussianNB()\n",
    "\n",
    "\n",
    "\n",
    "X_train = pd.DataFrame(X_train)\n",
    "gnb.fit(X_train, y_train)\n",
    "y_pred = gnb.predict(X_test)\n",
    "print(y_pred)\n",
    "print(confusion_matrix(y_test, y_pred))\n",
    "print(accuracy_score(y_test, y_pred))\n"
   ]
  }
 ],
 "metadata": {
  "kernelspec": {
   "display_name": "Python 3.10.0 64-bit",
   "language": "python",
   "name": "python3"
  },
  "language_info": {
   "codemirror_mode": {
    "name": "ipython",
    "version": 3
   },
   "file_extension": ".py",
   "mimetype": "text/x-python",
   "name": "python",
   "nbconvert_exporter": "python",
   "pygments_lexer": "ipython3",
   "version": "3.10.0"
  },
  "orig_nbformat": 4,
  "vscode": {
   "interpreter": {
    "hash": "917f1fe2c395e695a2acad0b272f87ed7c0aa19cfb0add5bf0124b7c8be35a9d"
   }
  }
 },
 "nbformat": 4,
 "nbformat_minor": 2
}
