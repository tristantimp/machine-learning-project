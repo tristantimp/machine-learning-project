{
 "cells": [
  {
   "cell_type": "code",
   "execution_count": 8,
   "metadata": {},
   "outputs": [],
   "source": [
    "import pandas as pd \n",
    "import numpy as np\n",
    "from sklearn.model_selection import train_test_split\n",
    "\n",
    "df = pd.read_csv(\"project_data.csv\")\n",
    "df2 = df.dropna()\n",
    "y = df2['Total early-stage Entrepreneurial Activity (TEA)']\n",
    "\n",
    "X = df2[['code', 'year', 'Perceived opportunities', 'Perceived capabilities', 'Fear of failure rate *', 'Entrepreneurial intentions', 'Established Business Ownership', 'Female/Male TEA', 'High Job Creation Expectation', 'Business Services Sector']]"
   ]
  },
  {
   "cell_type": "code",
   "execution_count": 9,
   "metadata": {},
   "outputs": [
    {
     "name": "stdout",
     "output_type": "stream",
     "text": [
      "0      13.48\n",
      "1      12.35\n",
      "2       8.37\n",
      "3       7.89\n",
      "4       7.70\n",
      "       ...  \n",
      "440     4.63\n",
      "441     4.59\n",
      "442     3.90\n",
      "443     7.13\n",
      "444     5.36\n",
      "Name: Total early-stage Entrepreneurial Activity (TEA), Length: 431, dtype: float64\n"
     ]
    }
   ],
   "source": [
    "print(y)"
   ]
  },
  {
   "cell_type": "code",
   "execution_count": 10,
   "metadata": {},
   "outputs": [
    {
     "name": "stdout",
     "output_type": "stream",
     "text": [
      "                                Coefficient\n",
      "code                               0.002033\n",
      "year                               0.063310\n",
      "Perceived opportunities            0.029221\n",
      "Perceived capabilities             0.007113\n",
      "Fear of failure rate *             0.008730\n",
      "Entrepreneurial intentions         0.180142\n",
      "Established Business Ownership     0.303323\n",
      "Female/Male TEA                    1.369277\n",
      "High Job Creation Expectation      0.071033\n",
      "Business Services Sector          -0.000656\n"
     ]
    }
   ],
   "source": [
    "X_train, X_test, y_train, y_test = train_test_split(X, y,test_size=0.2)\n",
    "from sklearn.linear_model import LinearRegression\n",
    "regressor = LinearRegression()\n",
    "regressor.fit(X_train, y_train)\n",
    "coeff_df = pd.DataFrame(regressor.coef_, X.columns, columns=['Coefficient'])\n",
    "print(coeff_df)\n"
   ]
  },
  {
   "cell_type": "code",
   "execution_count": 11,
   "metadata": {},
   "outputs": [
    {
     "name": "stdout",
     "output_type": "stream",
     "text": [
      "Mean Absolute Error: 1.478187545333702\n",
      "Mean Squared Error: 3.8713314461653927\n",
      "Root Mean Squared Error: 1.9675699342502144\n"
     ]
    }
   ],
   "source": [
    "y_pred = regressor.predict(X_test)\n",
    "df = pd.DataFrame({'Actual': y_test, 'Predicted': y_pred})\n",
    "from sklearn import metrics\n",
    "print('Mean Absolute Error:', metrics.mean_absolute_error(y_test, y_pred))\n",
    "print('Mean Squared Error:', metrics.mean_squared_error(y_test, y_pred))\n",
    "print('Root Mean Squared Error:', np.sqrt(metrics.mean_squared_error(y_test, y_pred)))"
   ]
  },
  {
   "cell_type": "code",
   "execution_count": 12,
   "metadata": {},
   "outputs": [
    {
     "name": "stdout",
     "output_type": "stream",
     "text": [
      "     code  year  Perceived opportunities  Perceived capabilities  \\\n",
      "291    30  2009                    26.48                   58.06   \n",
      "227     7  2012                    20.08                   23.50   \n",
      "78     46  2018                    81.56                   38.42   \n",
      "371    32  2005                    42.51                   44.49   \n",
      "42    385  2019                    55.66                   71.19   \n",
      "..    ...   ...                      ...                     ...   \n",
      "126    32  2015                    40.26                   31.89   \n",
      "241    49  2011                    35.17                   37.14   \n",
      "352   420  2006                    26.73                   37.98   \n",
      "113   371  2016                    31.90                   49.89   \n",
      "104   357  2016                    35.87                   52.38   \n",
      "\n",
      "     Fear of failure rate *  Entrepreneurial intentions  \\\n",
      "291                   44.58                       14.60   \n",
      "227                   46.51                        2.23   \n",
      "78                    37.24                        9.55   \n",
      "371                   29.00                        6.12   \n",
      "42                    50.66                       20.57   \n",
      "..                      ...                         ...   \n",
      "126                   48.48                       10.85   \n",
      "241                   41.99                        5.49   \n",
      "352                   31.23                        9.01   \n",
      "113                   41.11                       18.94   \n",
      "104                   50.17                       16.73   \n",
      "\n",
      "     Established Business Ownership  Female/Male TEA  \\\n",
      "291                           15.12             0.52   \n",
      "227                            2.05             0.64   \n",
      "78                             5.28             0.42   \n",
      "371                            5.63             0.45   \n",
      "42                             3.57             0.61   \n",
      "..                              ...              ...   \n",
      "126                            3.75             0.66   \n",
      "241                            5.64             0.66   \n",
      "352                            5.41             0.46   \n",
      "113                            9.50             0.51   \n",
      "104                            8.20             0.43   \n",
      "\n",
      "     High Job Creation Expectation  Business Services Sector  \n",
      "291                           3.22                     18.10  \n",
      "227                          26.27                      8.91  \n",
      "78                           16.67                     24.69  \n",
      "371                          17.86                     31.60  \n",
      "42                           25.12                     31.22  \n",
      "..                             ...                       ...  \n",
      "126                          19.50                     27.50  \n",
      "241                          19.98                     25.07  \n",
      "352                          33.22                     24.02  \n",
      "113                          31.30                     12.80  \n",
      "104                          20.90                     22.00  \n",
      "\n",
      "[344 rows x 10 columns]\n"
     ]
    }
   ],
   "source": [
    "print (X_train)"
   ]
  },
  {
   "cell_type": "code",
   "execution_count": 13,
   "metadata": {},
   "outputs": [
    {
     "name": "stdout",
     "output_type": "stream",
     "text": [
      "     code         economy  year  Perceived opportunities  \\\n",
      "0     375         Belarus  2021                    25.02   \n",
      "1     385         Croatia  2021                    58.33   \n",
      "2     357          Cyprus  2021                    50.17   \n",
      "3     358         Finland  2021                    61.04   \n",
      "4      33          France  2021                    52.13   \n",
      "..    ...             ...   ...                      ...   \n",
      "455    48          Poland  2001                    13.97   \n",
      "456   351        Portugal  2001                    22.28   \n",
      "457    34           Spain  2001                    48.46   \n",
      "458    46          Sweden  2001                    42.34   \n",
      "459    44  United Kingdom  2001                    23.00   \n",
      "\n",
      "     Perceived capabilities  Fear of failure rate *  \\\n",
      "0                     51.96                   56.01   \n",
      "1                     71.07                   45.58   \n",
      "2                     64.05                   50.08   \n",
      "3                     42.75                   44.53   \n",
      "4                     48.61                   44.08   \n",
      "..                      ...                     ...   \n",
      "455                   38.57                   44.28   \n",
      "456                   41.70                   31.32   \n",
      "457                   48.65                   36.22   \n",
      "458                   44.41                   31.19   \n",
      "459                   45.96                   33.24   \n",
      "\n",
      "     Entrepreneurial intentions  \\\n",
      "0                         24.06   \n",
      "1                         21.68   \n",
      "2                         15.06   \n",
      "3                          9.74   \n",
      "4                         14.46   \n",
      "..                          ...   \n",
      "455                         NaN   \n",
      "456                         NaN   \n",
      "457                         NaN   \n",
      "458                         NaN   \n",
      "459                         NaN   \n",
      "\n",
      "     Total early-stage Entrepreneurial Activity (TEA)  \\\n",
      "0                                               13.48   \n",
      "1                                               12.35   \n",
      "2                                                8.37   \n",
      "3                                                7.89   \n",
      "4                                                7.70   \n",
      "..                                                ...   \n",
      "455                                              8.04   \n",
      "456                                              6.61   \n",
      "457                                              6.32   \n",
      "458                                              5.65   \n",
      "459                                              6.49   \n",
      "\n",
      "     Established Business Ownership  Female/Male TEA  \\\n",
      "0                              5.54             0.91   \n",
      "1                              4.03             0.59   \n",
      "2                              8.60             0.57   \n",
      "3                              8.88             0.68   \n",
      "4                              3.56             0.84   \n",
      "..                              ...              ...   \n",
      "455                            4.75             0.65   \n",
      "456                            4.71             0.39   \n",
      "457                            4.72             0.71   \n",
      "458                            5.65             0.59   \n",
      "459                            3.35             0.39   \n",
      "\n",
      "     High Job Creation Expectation  Business Services Sector  \n",
      "0                            29.15                     20.27  \n",
      "1                            29.87                     25.64  \n",
      "2                             9.24                     16.74  \n",
      "3                            10.19                     31.61  \n",
      "4                            23.31                     35.86  \n",
      "..                             ...                       ...  \n",
      "455                          11.85                     17.44  \n",
      "456                          13.30                     14.68  \n",
      "457                          12.97                     22.38  \n",
      "458                          25.72                     34.33  \n",
      "459                          17.46                     27.53  \n",
      "\n",
      "[460 rows x 12 columns]\n"
     ]
    }
   ],
   "source": [
    "df = pd.read_csv(\"project_data.csv\")\n",
    "\n",
    "print(df)"
   ]
  },
  {
   "cell_type": "code",
   "execution_count": 14,
   "metadata": {},
   "outputs": [],
   "source": [
    "import pandas as pd\n",
    "import numpy as np\n",
    "import matplotlib.pyplot as plt\n",
    "df = pd.read_csv(\"project_data.csv\")\n",
    "cleaned = df\n",
    "#cleaned = df.drop(['code', 'economy']) # drop unrelated columns\n",
    "# cleanedAge = cleaned['Age'].fillna(df['Age'].mean()) # fill nulls in Age column with mean age\n",
    "# cleaned = cleaned.drop(['Age'], axis=1) # drop column with missing values\n",
    "# cleaned['Age'] = cleanedAge # add cleaned column to dataframe\n",
    "# cleaned = cleaned.dropna() # drop rows with empty embarked\n",
    "# from sklearn import preprocessing\n",
    "# le = preprocessing.LabelEncoder()\n",
    "# le.fit(cleaned['Embarked'])\n",
    "# embarked = le.transform(cleaned['Embarked'])\n",
    "# le.fit(cleaned['Sex'])\n",
    "# sex = le.transform(cleaned['Sex'])\n",
    "# cleaned = cleaned.drop(['Embarked', 'Sex'], axis = 1)\n",
    "# cleaned['Embarked'] = embarked\n",
    "# cleaned['Sex'] = sex\n",
    "# cleaned.info()"
   ]
  },
  {
   "cell_type": "code",
   "execution_count": 18,
   "metadata": {},
   "outputs": [
    {
     "name": "stdout",
     "output_type": "stream",
     "text": [
      "0      13\n",
      "1      12\n",
      "2       8\n",
      "3       7\n",
      "4       7\n",
      "       ..\n",
      "440     4\n",
      "441     4\n",
      "442     3\n",
      "443     7\n",
      "444     5\n",
      "Name: Total early-stage Entrepreneurial Activity (TEA), Length: 431, dtype: int64\n",
      "[ 5  9  2  6  9  4  4  5  5  6  6  7  5  2  3  9  5  9 12  7  6  6  7  5\n",
      "  5  5  4 14  6  7  5 13  5  5  5 12  8  7  8  5  8  5  6  8  3  3  9  5\n",
      "  7  7  7  4  7  3  5  6  5  4  5  9  6  7  3  5  9  9  4 11 12  5  8  5\n",
      "  6  4  8  4  7  5  8  5  5  7  3  5 14  9  7]\n",
      "[[0 0 0 0 0 1 0 0 0 0 0 0 0 0 0]\n",
      " [0 0 1 0 0 0 0 1 0 0 0 0 0 0 0]\n",
      " [0 1 2 0 1 0 2 1 0 0 0 0 0 0 0]\n",
      " [0 0 2 4 3 2 0 0 0 0 0 0 0 0 0]\n",
      " [0 1 1 3 7 1 1 0 0 0 0 0 0 0 0]\n",
      " [0 0 0 1 2 3 2 2 1 0 0 1 0 0 0]\n",
      " [0 0 0 0 6 3 2 1 2 0 0 0 1 0 0]\n",
      " [0 0 0 0 5 0 4 0 1 0 0 0 0 0 0]\n",
      " [0 0 0 0 1 0 1 2 1 0 1 0 0 0 0]\n",
      " [0 0 0 0 0 0 1 0 3 0 0 1 0 0 0]\n",
      " [0 0 0 0 0 0 0 0 0 0 0 0 0 0 0]\n",
      " [0 0 0 0 0 0 0 0 0 0 0 0 0 0 0]\n",
      " [0 0 0 0 0 0 0 0 1 0 0 1 0 0 0]\n",
      " [0 0 0 0 0 0 0 0 0 0 0 0 0 1 0]\n",
      " [0 0 0 0 0 0 0 0 0 0 0 0 0 1 0]]\n",
      "0.22988505747126436\n"
     ]
    }
   ],
   "source": [
    "from sklearn.metrics import confusion_matrix, accuracy_score\n",
    "from sklearn import svm\n",
    "df = pd.read_csv(\"project_data.csv\")\n",
    "df2 = df.dropna()\n",
    "y = y.apply(np.int64)\n",
    "print (y)\n",
    "clf = svm.SVC()\n",
    "clf.fit(X_train, y_train)\n",
    "clf.predict(X_test)\n",
    "print(y_pred)\n",
    "print(confusion_matrix(y_test, y_pred))\n",
    "print(accuracy_score(y_test, y_pred))\n"
   ]
  },
  {
   "cell_type": "code",
   "execution_count": 19,
   "metadata": {},
   "outputs": [
    {
     "name": "stdout",
     "output_type": "stream",
     "text": [
      "[ 4  4  3  5  5  5 10  5  6  8 14  4  7  5  5  9  5  8  9  5  7  5  5  5\n",
      " 14  5  9 11  9  5 10  7  4 11  5  5 10  4  9  8  4  9 13  5 13  9  4 13\n",
      "  7  2  7 12  5  4  6  5 10  5  7  4  4  8 13  6  6  9 11  5  4  5  3  8\n",
      "  4  8  5  6  7  7 12  3  6  5  5  5  3  4 12]\n",
      "[[0 0 0 0 0 1 0 0 0 0 0 0 0 0 0]\n",
      " [0 0 0 1 0 0 0 0 0 0 0 0 0 0 0]\n",
      " [0 0 2 3 2 1 0 0 0 0 0 0 0 0 0]\n",
      " [0 0 1 3 3 1 1 0 1 0 0 0 0 0 0]\n",
      " [0 1 0 5 8 0 1 0 0 0 0 0 0 0 0]\n",
      " [0 0 1 0 3 2 2 2 2 0 1 1 0 1 0]\n",
      " [0 0 0 1 4 1 1 0 1 1 0 1 0 1 0]\n",
      " [0 0 0 0 2 0 0 0 3 1 0 0 0 0 0]\n",
      " [0 0 0 0 3 0 2 1 1 0 0 0 0 0 0]\n",
      " [0 0 0 0 0 0 1 0 0 0 1 0 1 0 0]\n",
      " [0 0 0 0 0 0 0 1 0 0 0 0 0 0 0]\n",
      " [0 0 0 0 0 0 0 1 0 1 0 0 1 0 0]\n",
      " [0 0 0 0 0 0 0 0 0 0 0 1 0 0 0]\n",
      " [0 0 0 0 0 0 0 1 0 0 1 0 2 0 0]\n",
      " [0 0 0 0 0 0 0 0 0 1 0 0 0 0 0]]\n",
      "0.19540229885057472\n"
     ]
    }
   ],
   "source": [
    "from sklearn import preprocessing\n",
    "from sklearn.metrics import confusion_matrix, accuracy_score\n",
    "from sklearn.naive_bayes import GaussianNB\n",
    "gnb = GaussianNB()\n",
    "\n",
    "\n",
    "X = df2[['code', 'year', 'Perceived opportunities', 'Perceived capabilities', 'Fear of failure rate *', 'Entrepreneurial intentions', 'Established Business Ownership', 'Female/Male TEA', 'High Job Creation Expectation', 'Business Services Sector']]\n",
    "X_train, X_test, y_train, y_test = train_test_split(X, y,test_size=0.2)\n",
    "X_train = pd.DataFrame(X_train)\n",
    "gnb.fit(X_train, y_train)\n",
    "y_pred = gnb.predict(X_test)\n",
    "print(y_pred)\n",
    "print(confusion_matrix(y_test, y_pred))\n",
    "print(accuracy_score(y_test, y_pred))\n"
   ]
  }
 ],
 "metadata": {
  "kernelspec": {
   "display_name": "Python 3.10.0 64-bit",
   "language": "python",
   "name": "python3"
  },
  "language_info": {
   "codemirror_mode": {
    "name": "ipython",
    "version": 3
   },
   "file_extension": ".py",
   "mimetype": "text/x-python",
   "name": "python",
   "nbconvert_exporter": "python",
   "pygments_lexer": "ipython3",
   "version": "3.10.0"
  },
  "orig_nbformat": 4,
  "vscode": {
   "interpreter": {
    "hash": "917f1fe2c395e695a2acad0b272f87ed7c0aa19cfb0add5bf0124b7c8be35a9d"
   }
  }
 },
 "nbformat": 4,
 "nbformat_minor": 2
}
