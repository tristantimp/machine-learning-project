{
 "cells": [
  {
   "cell_type": "code",
   "execution_count": 1,
   "metadata": {},
   "outputs": [],
   "source": [
    "import pandas as pd \n",
    "import numpy as np\n",
    "from sklearn.model_selection import train_test_split\n",
    "#loading of the data and selecting most relevant features, dropping columns that are lacking data\n",
    "df = pd.read_csv(\"project_data.csv\")\n",
    "df2 = df.dropna()\n",
    "y = df2['Total early-stage Entrepreneurial Activity (TEA)']\n",
    "\n",
    "X = df2.drop(['economy','Total early-stage Entrepreneurial Activity (TEA)'], axis=1)"
   ]
  },
  {
   "cell_type": "code",
   "execution_count": 2,
   "metadata": {},
   "outputs": [
    {
     "name": "stdout",
     "output_type": "stream",
     "text": [
      "                                Coefficient\n",
      "code                               0.002215\n",
      "year                               0.057052\n",
      "Perceived opportunities            0.026152\n",
      "Perceived capabilities             0.014804\n",
      "Fear of failure rate *             0.011519\n",
      "Entrepreneurial intentions         0.183563\n",
      "Established Business Ownership     0.279211\n",
      "Female/Male TEA                    1.638814\n",
      "High Job Creation Expectation      0.060891\n",
      "Business Services Sector           0.016060\n"
     ]
    }
   ],
   "source": [
    "#spliting data, fitting it into Linear Regression \n",
    "X_train, X_test, y_train, y_test = train_test_split(X, y,test_size=0.2)\n",
    "from sklearn.linear_model import LinearRegression\n",
    "regressor = LinearRegression()\n",
    "regressor.fit(X_train, y_train)\n",
    "coeff_df = pd.DataFrame(regressor.coef_, X.columns, columns=['Coefficient'])\n",
    "#printing coefficients\n",
    "print(coeff_df)\n"
   ]
  },
  {
   "cell_type": "code",
   "execution_count": 3,
   "metadata": {},
   "outputs": [
    {
     "name": "stdout",
     "output_type": "stream",
     "text": [
      "Mean Absolute Error: 1.4528630501550506\n",
      "Mean Squared Error: 3.4326069784211195\n",
      "Root Mean Squared Error: 1.8527296020793536\n"
     ]
    }
   ],
   "source": [
    "\n",
    "#making predictions, printing scores\n",
    "y_pred = regressor.predict(X_test)\n",
    "df = pd.DataFrame({'Actual': y_test, 'Predicted': y_pred})\n",
    "from sklearn import metrics\n",
    "print('Mean Absolute Error:', metrics.mean_absolute_error(y_test, y_pred))\n",
    "print('Mean Squared Error:', metrics.mean_squared_error(y_test, y_pred))\n",
    "print('Root Mean Squared Error:', np.sqrt(metrics.mean_squared_error(y_test, y_pred)))"
   ]
  },
  {
   "cell_type": "code",
   "execution_count": 4,
   "metadata": {},
   "outputs": [
    {
     "name": "stdout",
     "output_type": "stream",
     "text": [
      "[[0 0 0 0 0 0 0 0 0 1 0 0 0 0]\n",
      " [0 0 0 0 0 1 0 0 0 2 0 0 0 0]\n",
      " [0 0 0 0 2 1 1 0 0 0 0 0 0 0]\n",
      " [0 0 0 0 2 0 2 1 0 4 0 0 0 0]\n",
      " [0 2 0 2 1 1 4 1 0 1 0 0 0 1]\n",
      " [0 0 0 1 2 4 4 1 0 0 1 0 0 0]\n",
      " [0 0 1 1 3 4 2 1 1 0 0 0 0 0]\n",
      " [0 0 0 1 5 2 2 3 0 0 0 0 0 0]\n",
      " [0 0 0 0 2 1 1 1 3 1 1 0 0 0]\n",
      " [0 0 1 1 0 0 1 1 0 0 0 0 0 0]\n",
      " [0 0 0 0 0 0 1 0 0 0 0 0 0 0]\n",
      " [0 0 0 1 0 0 0 0 0 0 0 0 0 0]\n",
      " [0 0 0 0 0 0 0 1 0 0 0 0 0 0]\n",
      " [0 0 0 0 0 1 0 0 0 0 0 0 0 0]]\n",
      "0.14942528735632185\n"
     ]
    }
   ],
   "source": [
    "#predicting using Support vector machine\n",
    "from sklearn.metrics import confusion_matrix, accuracy_score\n",
    "from sklearn import svm\n",
    "y = y.apply(np.int64)\n",
    "X_train, X_test, y_train, y_test = train_test_split(X, y,test_size=0.2)\n",
    "clf = svm.SVC()\n",
    "clf.fit(X_train, y_train)\n",
    "clf.predict(X_test)\n",
    "y_pred=pd.DataFrame(y_pred)\n",
    "y_pred = y_pred.apply(np.int64)\n",
    "#confusion matrix - important when evaluating how far from the truth was the algorithm \n",
    "print(confusion_matrix(y_test, y_pred))\n",
    "print(accuracy_score(y_test, y_pred))\n"
   ]
  },
  {
   "cell_type": "code",
   "execution_count": 5,
   "metadata": {},
   "outputs": [
    {
     "name": "stdout",
     "output_type": "stream",
     "text": [
      "[13  5  5  5  5  8  4 13  5  5  4 13  3  7  9  6 12 11  5 10  8  5  3  4\n",
      "  5  5  5  4  7  3  7  5  5 13  6  9  5  9  5  5 10  5  7  5 13  4  6  5\n",
      "  5  7  5  8  6  5  3  8 14  5  7  5  5  8 13  5 12  5  5  8  2  5 13  6\n",
      "  9  7  3  5  6  5 10  4  8  8  4  9  5  5  5]\n",
      "[[1 1 0 1 0 0 0 0 0 0 0 0 0 0]\n",
      " [0 2 2 2 0 1 1 0 0 0 0 1 0 0]\n",
      " [0 1 1 7 2 0 0 0 0 0 0 0 0 0]\n",
      " [0 1 2 5 1 2 2 1 0 0 0 0 0 0]\n",
      " [0 0 2 8 1 1 1 0 0 0 0 1 0 0]\n",
      " [0 0 0 5 1 0 1 1 1 0 0 0 0 0]\n",
      " [0 0 0 3 0 2 1 1 1 0 0 0 0 0]\n",
      " [0 0 0 2 0 1 2 2 1 0 0 1 0 0]\n",
      " [0 0 0 0 1 0 0 0 0 1 1 1 0 0]\n",
      " [0 0 0 1 0 0 0 0 0 0 0 1 0 0]\n",
      " [0 0 0 0 0 0 0 0 0 0 0 1 0 0]\n",
      " [0 0 0 0 0 0 0 0 0 0 0 1 0 0]\n",
      " [0 0 0 0 0 0 0 0 0 0 0 0 1 0]\n",
      " [0 0 0 0 0 0 0 0 0 0 1 0 0 0]]\n",
      "0.1724137931034483\n"
     ]
    }
   ],
   "source": [
    "#prediction using Gaussian NB\n",
    "X_train, X_test, y_train, y_test = train_test_split(X, y,test_size=0.2)\n",
    "from sklearn import preprocessing\n",
    "from sklearn.metrics import confusion_matrix, accuracy_score\n",
    "from sklearn.naive_bayes import GaussianNB\n",
    "gnb = GaussianNB()\n",
    "\n",
    "\n",
    "\n",
    "X_train = pd.DataFrame(X_train)\n",
    "gnb.fit(X_train, y_train)\n",
    "y_pred = gnb.predict(X_test)\n",
    "print(y_pred)\n",
    "#confusion matrix - important when evaluating how far from the truth was the algorithm \n",
    "print(confusion_matrix(y_test, y_pred))\n",
    "print(accuracy_score(y_test, y_pred))\n"
   ]
  }
 ],
 "metadata": {
  "kernelspec": {
   "display_name": "Python 3.10.0 64-bit",
   "language": "python",
   "name": "python3"
  },
  "language_info": {
   "codemirror_mode": {
    "name": "ipython",
    "version": 3
   },
   "file_extension": ".py",
   "mimetype": "text/x-python",
   "name": "python",
   "nbconvert_exporter": "python",
   "pygments_lexer": "ipython3",
   "version": "3.10.0"
  },
  "orig_nbformat": 4,
  "vscode": {
   "interpreter": {
    "hash": "917f1fe2c395e695a2acad0b272f87ed7c0aa19cfb0add5bf0124b7c8be35a9d"
   }
  }
 },
 "nbformat": 4,
 "nbformat_minor": 2
}
